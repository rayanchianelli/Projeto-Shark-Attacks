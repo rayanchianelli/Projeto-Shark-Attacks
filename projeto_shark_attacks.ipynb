{
  "cells": [
    {
      "cell_type": "markdown",
      "metadata": {
        "id": "view-in-github",
        "colab_type": "text"
      },
      "source": [
        "<a href=\"https://colab.research.google.com/github/rayannoyma/Projeto-Shark-Attacks/blob/main/projeto_shark_attacks.ipynb\" target=\"_parent\"><img src=\"https://colab.research.google.com/assets/colab-badge.svg\" alt=\"Open In Colab\"/></a>"
      ]
    },
    {
      "cell_type": "markdown",
      "id": "0e51b48a",
      "metadata": {
        "id": "0e51b48a"
      },
      "source": [
        "Projeto Shark Attack\n",
        "\n",
        "Diretrizes:\n",
        "\n",
        "Como começar\n",
        "\n",
        "- Crie seu repositório github, não se esqueça de confirmar com antecedência e com frequência.\n",
        "- Baixe o conjunto de dados e importe-o para o Python.\n",
        "- Examine os dados e tente entender o significado dos campos antes de prosseguir com a limpeza e manipulação dos dados.\n",
        "- Use dicas rápidas sobre análise exploratória de dados, como o método \"descrever\" e gráficos básicos, para explorar os dados e identificar quaisquer problemas que precisem ser resolvidos.\n",
        "- Decida uma hipótese (ou hipóteses) para orientar seus esforços de limpeza. Apresente a análise de forma clara e coerente para apoiar os resultados. Por exemplo: \"Os tubarões atacam mais pessoas jovens do que as mais velhas\", \"A maneira mais fácil de ser atacado por um tubarão é surfando\", \"Os tubarões atacam mais pessoas nos EUA do que na Islândia\", etc.\n",
        "- Aplique pelo menos cinco técnicas de limpeza de dados, como manipulação de valores nulos, descarte de colunas, remoção de dados duplicados, manipulação de strings, formatação de dados etc., para preparar o conjunto de dados para análise.\n",
        "- Depois que os dados forem limpos, analise-os para validar suas hipóteses e tirar conclusões sobre os dados. Use a análise estatística básica e crie gráficos para apoiar suas descobertas.\n",
        "- Crie uma apresentação visualmente atraente com o mínimo de texto para mostrar que comunique efetivamente suas ideias e conclusões às partes interessadas, criando uma narrativa convincente que destaca a importância de sua análise.\n",
        "- Organize seu código! Para melhorar a organização e a legibilidade do seu código, crie arquivos .py separados para funções relacionadas e use vários notebooks Jupyter, se necessário. Use uma \"função de limpeza principal\" em Cleaning.py (ou similar) que chame todas as funções de limpeza menores em uma ordem específica para executar todo o processo de limpeza de uma só vez. Seu código deve ser fácil de ler e entender para seus colegas (e futuros recrutadores)."
      ]
    },
    {
      "cell_type": "code",
      "execution_count": 1,
      "id": "a2ccfd4a",
      "metadata": {
        "id": "a2ccfd4a"
      },
      "outputs": [],
      "source": [
        "import pandas as pd\n",
        "import numpy as np"
      ]
    },
    {
      "cell_type": "markdown",
      "id": "29796b08",
      "metadata": {
        "id": "29796b08"
      },
      "source": [
        "https://www.amazon.com/Sharkbanz-Magnetic-Shark-Repellent-Band/dp/B01N7CSP0S?crid=2C75676AC8FD5&keywords=shark%2Brepellent&qid=1668271261&sprefix=shark%2Brep%2Caps%2C223&sr=8-1-spons&th=1&linkCode=li3&tag=honestsurf-20&linkId=519c5209ede246edcce82576d5c19b03&language=en_US&ref_=as_li_ss_il"
      ]
    },
    {
      "cell_type": "code",
      "execution_count": 4,
      "id": "a832a3f0",
      "metadata": {
        "id": "a832a3f0"
      },
      "outputs": [],
      "source": [
        "shark_attacks = pd.read_excel('GSAF5.xls')"
      ]
    },
    {
      "cell_type": "code",
      "execution_count": 18,
      "id": "74080170",
      "metadata": {
        "colab": {
          "base_uri": "https://localhost:8080/"
        },
        "id": "74080170",
        "outputId": "62963208-dd43-48f8-d333-682244902026"
      },
      "outputs": [
        {
          "output_type": "execute_result",
          "data": {
            "text/plain": [
              "Index(['Date', 'Year', 'Type', 'Country', 'Area', 'Location', 'Activity',\n",
              "       'Name', 'Sex ', 'Age', 'Injury', 'Fatal (Y/N)', 'Time', 'Species ',\n",
              "       'Investigator or Source', 'pdf', 'href formula', 'href', 'Case Number',\n",
              "       'Case Number.1', 'original order', 'Unnamed: 21', 'Unnamed: 22'],\n",
              "      dtype='object')"
            ]
          },
          "metadata": {},
          "execution_count": 18
        }
      ],
      "source": [
        "shark_attacks.columns"
      ]
    },
    {
      "cell_type": "code",
      "execution_count": 19,
      "id": "9e7cc04c",
      "metadata": {
        "colab": {
          "base_uri": "https://localhost:8080/",
          "height": 423
        },
        "id": "9e7cc04c",
        "outputId": "5a208340-d52e-409f-8237-203fdb4a8094"
      },
      "outputs": [
        {
          "output_type": "execute_result",
          "data": {
            "text/plain": [
              "             Date                                    Location Sex \n",
              "0     25-Mar-2023  Blue Fish Channel, Key West, Monroe County    M\n",
              "1     22-Mar-2023                                Delta Island    M\n",
              "2     19-Mar-2023                             Anaehoomalu Bay    M\n",
              "3     17-Mar-2023                                      Cancún    M\n",
              "4     16-Mar-2023                              Cheynes Beach     F\n",
              "...           ...                                         ...  ...\n",
              "6860          NaN                                         NaN  NaN\n",
              "6861          NaN                                         NaN  NaN\n",
              "6862          NaN                                         NaN  NaN\n",
              "6863          NaN                                         NaN  NaN\n",
              "6864          NaN                                         NaN  NaN\n",
              "\n",
              "[6865 rows x 3 columns]"
            ],
            "text/html": [
              "\n",
              "  <div id=\"df-98855508-64b0-4a66-860d-1671c0cb7a72\">\n",
              "    <div class=\"colab-df-container\">\n",
              "      <div>\n",
              "<style scoped>\n",
              "    .dataframe tbody tr th:only-of-type {\n",
              "        vertical-align: middle;\n",
              "    }\n",
              "\n",
              "    .dataframe tbody tr th {\n",
              "        vertical-align: top;\n",
              "    }\n",
              "\n",
              "    .dataframe thead th {\n",
              "        text-align: right;\n",
              "    }\n",
              "</style>\n",
              "<table border=\"1\" class=\"dataframe\">\n",
              "  <thead>\n",
              "    <tr style=\"text-align: right;\">\n",
              "      <th></th>\n",
              "      <th>Date</th>\n",
              "      <th>Location</th>\n",
              "      <th>Sex</th>\n",
              "    </tr>\n",
              "  </thead>\n",
              "  <tbody>\n",
              "    <tr>\n",
              "      <th>0</th>\n",
              "      <td>25-Mar-2023</td>\n",
              "      <td>Blue Fish Channel, Key West, Monroe County</td>\n",
              "      <td>M</td>\n",
              "    </tr>\n",
              "    <tr>\n",
              "      <th>1</th>\n",
              "      <td>22-Mar-2023</td>\n",
              "      <td>Delta Island</td>\n",
              "      <td>M</td>\n",
              "    </tr>\n",
              "    <tr>\n",
              "      <th>2</th>\n",
              "      <td>19-Mar-2023</td>\n",
              "      <td>Anaehoomalu Bay</td>\n",
              "      <td>M</td>\n",
              "    </tr>\n",
              "    <tr>\n",
              "      <th>3</th>\n",
              "      <td>17-Mar-2023</td>\n",
              "      <td>Cancún</td>\n",
              "      <td>M</td>\n",
              "    </tr>\n",
              "    <tr>\n",
              "      <th>4</th>\n",
              "      <td>16-Mar-2023</td>\n",
              "      <td>Cheynes Beach</td>\n",
              "      <td>F</td>\n",
              "    </tr>\n",
              "    <tr>\n",
              "      <th>...</th>\n",
              "      <td>...</td>\n",
              "      <td>...</td>\n",
              "      <td>...</td>\n",
              "    </tr>\n",
              "    <tr>\n",
              "      <th>6860</th>\n",
              "      <td>NaN</td>\n",
              "      <td>NaN</td>\n",
              "      <td>NaN</td>\n",
              "    </tr>\n",
              "    <tr>\n",
              "      <th>6861</th>\n",
              "      <td>NaN</td>\n",
              "      <td>NaN</td>\n",
              "      <td>NaN</td>\n",
              "    </tr>\n",
              "    <tr>\n",
              "      <th>6862</th>\n",
              "      <td>NaN</td>\n",
              "      <td>NaN</td>\n",
              "      <td>NaN</td>\n",
              "    </tr>\n",
              "    <tr>\n",
              "      <th>6863</th>\n",
              "      <td>NaN</td>\n",
              "      <td>NaN</td>\n",
              "      <td>NaN</td>\n",
              "    </tr>\n",
              "    <tr>\n",
              "      <th>6864</th>\n",
              "      <td>NaN</td>\n",
              "      <td>NaN</td>\n",
              "      <td>NaN</td>\n",
              "    </tr>\n",
              "  </tbody>\n",
              "</table>\n",
              "<p>6865 rows × 3 columns</p>\n",
              "</div>\n",
              "      <button class=\"colab-df-convert\" onclick=\"convertToInteractive('df-98855508-64b0-4a66-860d-1671c0cb7a72')\"\n",
              "              title=\"Convert this dataframe to an interactive table.\"\n",
              "              style=\"display:none;\">\n",
              "        \n",
              "  <svg xmlns=\"http://www.w3.org/2000/svg\" height=\"24px\"viewBox=\"0 0 24 24\"\n",
              "       width=\"24px\">\n",
              "    <path d=\"M0 0h24v24H0V0z\" fill=\"none\"/>\n",
              "    <path d=\"M18.56 5.44l.94 2.06.94-2.06 2.06-.94-2.06-.94-.94-2.06-.94 2.06-2.06.94zm-11 1L8.5 8.5l.94-2.06 2.06-.94-2.06-.94L8.5 2.5l-.94 2.06-2.06.94zm10 10l.94 2.06.94-2.06 2.06-.94-2.06-.94-.94-2.06-.94 2.06-2.06.94z\"/><path d=\"M17.41 7.96l-1.37-1.37c-.4-.4-.92-.59-1.43-.59-.52 0-1.04.2-1.43.59L10.3 9.45l-7.72 7.72c-.78.78-.78 2.05 0 2.83L4 21.41c.39.39.9.59 1.41.59.51 0 1.02-.2 1.41-.59l7.78-7.78 2.81-2.81c.8-.78.8-2.07 0-2.86zM5.41 20L4 18.59l7.72-7.72 1.47 1.35L5.41 20z\"/>\n",
              "  </svg>\n",
              "      </button>\n",
              "      \n",
              "  <style>\n",
              "    .colab-df-container {\n",
              "      display:flex;\n",
              "      flex-wrap:wrap;\n",
              "      gap: 12px;\n",
              "    }\n",
              "\n",
              "    .colab-df-convert {\n",
              "      background-color: #E8F0FE;\n",
              "      border: none;\n",
              "      border-radius: 50%;\n",
              "      cursor: pointer;\n",
              "      display: none;\n",
              "      fill: #1967D2;\n",
              "      height: 32px;\n",
              "      padding: 0 0 0 0;\n",
              "      width: 32px;\n",
              "    }\n",
              "\n",
              "    .colab-df-convert:hover {\n",
              "      background-color: #E2EBFA;\n",
              "      box-shadow: 0px 1px 2px rgba(60, 64, 67, 0.3), 0px 1px 3px 1px rgba(60, 64, 67, 0.15);\n",
              "      fill: #174EA6;\n",
              "    }\n",
              "\n",
              "    [theme=dark] .colab-df-convert {\n",
              "      background-color: #3B4455;\n",
              "      fill: #D2E3FC;\n",
              "    }\n",
              "\n",
              "    [theme=dark] .colab-df-convert:hover {\n",
              "      background-color: #434B5C;\n",
              "      box-shadow: 0px 1px 3px 1px rgba(0, 0, 0, 0.15);\n",
              "      filter: drop-shadow(0px 1px 2px rgba(0, 0, 0, 0.3));\n",
              "      fill: #FFFFFF;\n",
              "    }\n",
              "  </style>\n",
              "\n",
              "      <script>\n",
              "        const buttonEl =\n",
              "          document.querySelector('#df-98855508-64b0-4a66-860d-1671c0cb7a72 button.colab-df-convert');\n",
              "        buttonEl.style.display =\n",
              "          google.colab.kernel.accessAllowed ? 'block' : 'none';\n",
              "\n",
              "        async function convertToInteractive(key) {\n",
              "          const element = document.querySelector('#df-98855508-64b0-4a66-860d-1671c0cb7a72');\n",
              "          const dataTable =\n",
              "            await google.colab.kernel.invokeFunction('convertToInteractive',\n",
              "                                                     [key], {});\n",
              "          if (!dataTable) return;\n",
              "\n",
              "          const docLinkHtml = 'Like what you see? Visit the ' +\n",
              "            '<a target=\"_blank\" href=https://colab.research.google.com/notebooks/data_table.ipynb>data table notebook</a>'\n",
              "            + ' to learn more about interactive tables.';\n",
              "          element.innerHTML = '';\n",
              "          dataTable['output_type'] = 'display_data';\n",
              "          await google.colab.output.renderOutput(dataTable, element);\n",
              "          const docLink = document.createElement('div');\n",
              "          docLink.innerHTML = docLinkHtml;\n",
              "          element.appendChild(docLink);\n",
              "        }\n",
              "      </script>\n",
              "    </div>\n",
              "  </div>\n",
              "  "
            ]
          },
          "metadata": {},
          "execution_count": 19
        }
      ],
      "source": [
        "dados2 = ['Date','Location','Sex ']\n",
        "dados_3 = shark_attacks[dados2]\n",
        "dados_3"
      ]
    },
    {
      "cell_type": "code",
      "source": [
        "freq_loc = dados_3['Location'].value_counts()\n",
        "freq_loc"
      ],
      "metadata": {
        "colab": {
          "base_uri": "https://localhost:8080/"
        },
        "id": "-WOMCLb9MtSG",
        "outputId": "a517b6fb-5abc-4137-957b-bf8870b798ec"
      },
      "id": "-WOMCLb9MtSG",
      "execution_count": 20,
      "outputs": [
        {
          "output_type": "execute_result",
          "data": {
            "text/plain": [
              "New Smyrna Beach, Volusia County                     189\n",
              "Daytona Beach, Volusia County                         31\n",
              "Ponce Inlet, Volusia County                           26\n",
              "Myrtle Beach, Horry County                            21\n",
              "Melbourne Beach, Brevard County                       20\n",
              "                                                    ... \n",
              "St. Augustine Beach, St. Johns County                  1\n",
              "Lauderdale-By-The-Sea, Broward County                  1\n",
              "Brenecke Beach, Po'ipu, Kaua'i                         1\n",
              "Deerfield Beach (near Boca Raton), Broward County      1\n",
              "Below the English fort, Trincomalee                    1\n",
              "Name: Location, Length: 4437, dtype: int64"
            ]
          },
          "metadata": {},
          "execution_count": 20
        }
      ]
    },
    {
      "cell_type": "code",
      "source": [
        "freq_date = dados_3['Date'].value_counts()\n",
        "freq_date"
      ],
      "metadata": {
        "colab": {
          "base_uri": "https://localhost:8080/"
        },
        "id": "tvLgIeOMNxT4",
        "outputId": "578f1810-5ff2-4670-d03e-215b5e75b934"
      },
      "id": "tvLgIeOMNxT4",
      "execution_count": 22,
      "outputs": [
        {
          "output_type": "execute_result",
          "data": {
            "text/plain": [
              "1957                    9\n",
              "1942                    8\n",
              "1958                    7\n",
              "1956                    6\n",
              "No date                 6\n",
              "                       ..\n",
              "Reported 16-Sep-1999    1\n",
              "19-Sep-1999             1\n",
              "24-Sep-1999             1\n",
              "29-Sep-1999             1\n",
              "1845-1853               1\n",
              "Name: Date, Length: 5913, dtype: int64"
            ]
          },
          "metadata": {},
          "execution_count": 22
        }
      ]
    },
    {
      "cell_type": "code",
      "source": [
        "freq_sex = dados_3['Sex '].value_counts()\n",
        "freq_sex"
      ],
      "metadata": {
        "colab": {
          "base_uri": "https://localhost:8080/"
        },
        "id": "hCjlsUe1N5Au",
        "outputId": "4852c6af-3268-4ea6-dde2-166392efd5a4"
      },
      "id": "hCjlsUe1N5Au",
      "execution_count": 23,
      "outputs": [
        {
          "output_type": "execute_result",
          "data": {
            "text/plain": [
              "M        5505\n",
              "F         750\n",
              "M           2\n",
              "N           2\n",
              " M          1\n",
              "lli         1\n",
              "M x 2       1\n",
              ".           1\n",
              "Name: Sex , dtype: int64"
            ]
          },
          "metadata": {},
          "execution_count": 23
        }
      ]
    }
  ],
  "metadata": {
    "kernelspec": {
      "display_name": "Python 3 (ipykernel)",
      "language": "python",
      "name": "python3"
    },
    "language_info": {
      "codemirror_mode": {
        "name": "ipython",
        "version": 3
      },
      "file_extension": ".py",
      "mimetype": "text/x-python",
      "name": "python",
      "nbconvert_exporter": "python",
      "pygments_lexer": "ipython3",
      "version": "3.10.9"
    },
    "colab": {
      "provenance": [],
      "include_colab_link": true
    }
  },
  "nbformat": 4,
  "nbformat_minor": 5
}