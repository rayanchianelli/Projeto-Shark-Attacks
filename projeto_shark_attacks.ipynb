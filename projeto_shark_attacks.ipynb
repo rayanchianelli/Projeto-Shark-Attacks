{
  "cells": [
    {
      "cell_type": "markdown",
      "metadata": {
        "id": "view-in-github",
        "colab_type": "text"
      },
      "source": [
        "<a href=\"https://colab.research.google.com/github/rayannoyma/Projeto-Shark-Attacks/blob/editado/projeto_shark_attacks.ipynb\" target=\"_parent\"><img src=\"https://colab.research.google.com/assets/colab-badge.svg\" alt=\"Open In Colab\"/></a>"
      ]
    },
    {
      "cell_type": "markdown",
      "id": "0e51b48a",
      "metadata": {
        "id": "0e51b48a"
      },
      "source": [
        "Projeto Shark Attack\n",
        "\n",
        "Diretrizes:\n",
        "\n",
        "Como começar\n",
        "\n",
        "- Crie seu repositório github, não se esqueça de confirmar com antecedência e com frequência.\n",
        "- Baixe o conjunto de dados e importe-o para o Python.\n",
        "- Examine os dados e tente entender o significado dos campos antes de prosseguir com a limpeza e manipulação dos dados.\n",
        "- Use dicas rápidas sobre análise exploratória de dados, como o método \"descrever\" e gráficos básicos, para explorar os dados e identificar quaisquer problemas que precisem ser resolvidos.\n",
        "- Decida uma hipótese (ou hipóteses) para orientar seus esforços de limpeza. Apresente a análise de forma clara e coerente para apoiar os resultados. Por exemplo: \"Os tubarões atacam mais pessoas jovens do que as mais velhas\", \"A maneira mais fácil de ser atacado por um tubarão é surfando\", \"Os tubarões atacam mais pessoas nos EUA do que na Islândia\", etc.\n",
        "- Aplique pelo menos cinco técnicas de limpeza de dados, como manipulação de valores nulos, descarte de colunas, remoção de dados duplicados, manipulação de strings, formatação de dados etc., para preparar o conjunto de dados para análise.\n",
        "- Depois que os dados forem limpos, analise-os para validar suas hipóteses e tirar conclusões sobre os dados. Use a análise estatística básica e crie gráficos para apoiar suas descobertas.\n",
        "- Crie uma apresentação visualmente atraente com o mínimo de texto para mostrar que comunique efetivamente suas ideias e conclusões às partes interessadas, criando uma narrativa convincente que destaca a importância de sua análise.\n",
        "- Organize seu código! Para melhorar a organização e a legibilidade do seu código, crie arquivos .py separados para funções relacionadas e use vários notebooks Jupyter, se necessário. Use uma \"função de limpeza principal\" em Cleaning.py (ou similar) que chame todas as funções de limpeza menores em uma ordem específica para executar todo o processo de limpeza de uma só vez. Seu código deve ser fácil de ler e entender para seus colegas (e futuros recrutadores)."
      ]
    },
    {
      "cell_type": "code",
      "execution_count": 340,
      "id": "a2ccfd4a",
      "metadata": {
        "id": "a2ccfd4a"
      },
      "outputs": [],
      "source": [
        "import pandas as pd\n",
        "import numpy as np"
      ]
    },
    {
      "cell_type": "markdown",
      "id": "29796b08",
      "metadata": {
        "id": "29796b08"
      },
      "source": [
        "https://www.amazon.com/Sharkbanz-Magnetic-Shark-Repellent-Band/dp/B01N7CSP0S?crid=2C75676AC8FD5&keywords=shark%2Brepellent&qid=1668271261&sprefix=shark%2Brep%2Caps%2C223&sr=8-1-spons&th=1&linkCode=li3&tag=honestsurf-20&linkId=519c5209ede246edcce82576d5c19b03&language=en_US&ref_=as_li_ss_il"
      ]
    },
    {
      "cell_type": "code",
      "execution_count": 341,
      "id": "a832a3f0",
      "metadata": {
        "id": "a832a3f0"
      },
      "outputs": [],
      "source": [
        "#criando um df\n",
        "shark_attacks = pd.read_excel('GSAF5.xls')"
      ]
    },
    {
      "cell_type": "code",
      "execution_count": 342,
      "id": "74080170",
      "metadata": {
        "id": "74080170"
      },
      "outputs": [],
      "source": [
        "#limpando os espaços dos nomes das colunas no df\n",
        "shark_attacks = shark_attacks.rename(columns=lambda x: x.strip().replace(\" \", \"\"))"
      ]
    },
    {
      "cell_type": "code",
      "source": [
        "shark_attacks.columns"
      ],
      "metadata": {
        "id": "PQMepJ73yV1o"
      },
      "id": "PQMepJ73yV1o",
      "execution_count": null,
      "outputs": []
    },
    {
      "cell_type": "code",
      "source": [
        "#limpando os espaços vazios na coluna 'Year'\n",
        "shark_attacks = shark_attacks.dropna(subset=['Year'])"
      ],
      "metadata": {
        "id": "4XXo6d8z3PW9"
      },
      "id": "4XXo6d8z3PW9",
      "execution_count": 344,
      "outputs": []
    },
    {
      "cell_type": "code",
      "source": [
        "#transfomando em inteiros os valores de 'Year'\n",
        "shark_attacks['Year'] = shark_attacks['Year'].astype(int)"
      ],
      "metadata": {
        "id": "Wdd6uqkv-81d"
      },
      "id": "Wdd6uqkv-81d",
      "execution_count": 365,
      "outputs": []
    },
    {
      "cell_type": "code",
      "source": [
        "#substituindo os elementos que tinham espaços sobrando na coluna 'Sex'\n",
        "shark_attacks['Sex'] = shark_attacks['Sex'].replace({'M ': 'M'})"
      ],
      "metadata": {
        "id": "uIjRSBm06v01"
      },
      "id": "uIjRSBm06v01",
      "execution_count": 346,
      "outputs": []
    },
    {
      "cell_type": "code",
      "source": [
        "#substituindo os nomes repetidos da coluna 'Location'\n",
        "shark_attacks['Location'] = shark_attacks['Location'].replace({'Daytona Beach Shores, Volusia County' : 'Daytona Beach, Volusia County', 'Ponce Inlet, New Smyrna Beach, Volusia County' : 'New Smyrna Beach, Volusia County', 'Ponce Inlet, Volusia County':'New Smyrna Beach, Volusia County' })"
      ],
      "metadata": {
        "id": "jB9YJiTv39Vp"
      },
      "id": "jB9YJiTv39Vp",
      "execution_count": 376,
      "outputs": []
    },
    {
      "cell_type": "code",
      "execution_count": 377,
      "id": "9e7cc04c",
      "metadata": {
        "id": "9e7cc04c"
      },
      "outputs": [],
      "source": [
        "# DataFrame com informações relevantes para o projeto\n",
        "new_df = shark_attacks.loc[:,['Year','Location','Sex']]"
      ]
    },
    {
      "cell_type": "code",
      "source": [
        "# Recorte dos ataques a partir dos anos 2000\n",
        "new_df1 = shark_attacks.loc[shark_attacks['Year'] >= 2000]"
      ],
      "metadata": {
        "id": "WkxaAmYAYmjQ"
      },
      "id": "WkxaAmYAYmjQ",
      "execution_count": 378,
      "outputs": []
    },
    {
      "cell_type": "code",
      "source": [
        "# Criando um novo df com a intersecção do 'Year' e 'Location'\n",
        "new_df2 = new_df1['Location'].value_counts().head(10).index.tolist()\n",
        "new_df3 = new_df1[new_df1['Location'].isin(new_df2)]"
      ],
      "metadata": {
        "id": "c6JY2t5hfvxa"
      },
      "id": "c6JY2t5hfvxa",
      "execution_count": 379,
      "outputs": []
    },
    {
      "cell_type": "code",
      "source": [
        "# Recorte dos 10 lugares com mais ataques\n",
        "new_df2"
      ],
      "metadata": {
        "colab": {
          "base_uri": "https://localhost:8080/"
        },
        "id": "Yas0qsa8njg7",
        "outputId": "bb856591-9e2a-4353-b2b8-b12a1e3d7c51"
      },
      "id": "Yas0qsa8njg7",
      "execution_count": 382,
      "outputs": [
        {
          "output_type": "execute_result",
          "data": {
            "text/plain": [
              "['New Smyrna Beach, Volusia County',\n",
              " 'Daytona Beach, Volusia County',\n",
              " 'Cocoa Beach, Brevard  County',\n",
              " 'Myrtle Beach, Horry County',\n",
              " 'Melbourne Beach, Brevard County',\n",
              " 'Jacksonville Beach, Duval County',\n",
              " 'Isle of Palms, Charleston County',\n",
              " 'Quy Nhon ',\n",
              " 'Vero Beach, Indian River County',\n",
              " 'Florida Keys, Monroe County']"
            ]
          },
          "metadata": {},
          "execution_count": 382
        }
      ]
    },
    {
      "cell_type": "code",
      "source": [
        "# Novo dataframe com dos Lugares de mais ataques no periodo recortado\n",
        "new_df3"
      ],
      "metadata": {
        "id": "W5S33il2nl5Q"
      },
      "id": "W5S33il2nl5Q",
      "execution_count": null,
      "outputs": []
    },
    {
      "cell_type": "code",
      "source": [
        "# Indice de genero nos ataques  em relação aperiodo\n",
        "new_df3['Sex'].value_counts()"
      ],
      "metadata": {
        "colab": {
          "base_uri": "https://localhost:8080/"
        },
        "id": "PWR1YHJykgE-",
        "outputId": "5c2bf077-944f-47d4-ac91-aeefb3aaae8d"
      },
      "id": "PWR1YHJykgE-",
      "execution_count": 384,
      "outputs": [
        {
          "output_type": "execute_result",
          "data": {
            "text/plain": [
              "M    222\n",
              "F     61\n",
              "Name: Sex, dtype: int64"
            ]
          },
          "metadata": {},
          "execution_count": 384
        }
      ]
    },
    {
      "cell_type": "code",
      "source": [
        "new_df3['Sex'].unique()"
      ],
      "metadata": {
        "colab": {
          "base_uri": "https://localhost:8080/"
        },
        "id": "dwL_IYLT6Fub",
        "outputId": "195272e5-7d3b-4f35-e74f-f382608431ed"
      },
      "id": "dwL_IYLT6Fub",
      "execution_count": 385,
      "outputs": [
        {
          "output_type": "execute_result",
          "data": {
            "text/plain": [
              "array(['F', 'M', nan], dtype=object)"
            ]
          },
          "metadata": {},
          "execution_count": 385
        }
      ]
    },
    {
      "cell_type": "code",
      "source": [
        "# Dataframe Final\n",
        "df_final = new_df3.loc[:,['Year','Location','Sex']].reset_index()\n",
        "df_final = df_final.groupby(['Year','Location','Sex'],as_index=False).count()"
      ],
      "metadata": {
        "id": "6eMMCsJ9nHZ4"
      },
      "id": "6eMMCsJ9nHZ4",
      "execution_count": 386,
      "outputs": []
    },
    {
      "cell_type": "code",
      "source": [
        "df_final"
      ],
      "metadata": {
        "colab": {
          "base_uri": "https://localhost:8080/",
          "height": 423
        },
        "id": "q1iYqsGH3krR",
        "outputId": "c39b2f40-8c21-4ea5-b4d6-71cd0b0697f9"
      },
      "id": "q1iYqsGH3krR",
      "execution_count": 387,
      "outputs": [
        {
          "output_type": "execute_result",
          "data": {
            "text/plain": [
              "     Year                          Location Sex  index\n",
              "0    2000     Daytona Beach, Volusia County   F      1\n",
              "1    2000     Daytona Beach, Volusia County   M      1\n",
              "2    2000  New Smyrna Beach, Volusia County   M      5\n",
              "3    2000   Vero Beach, Indian River County   M      1\n",
              "4    2001        Myrtle Beach, Horry County   F      1\n",
              "..    ...                               ...  ..    ...\n",
              "109  2022     Daytona Beach, Volusia County   M      1\n",
              "110  2022       Florida Keys, Monroe County   M      1\n",
              "111  2022        Myrtle Beach, Horry County   F      2\n",
              "112  2022        Myrtle Beach, Horry County   M      1\n",
              "113  2022  New Smyrna Beach, Volusia County   M      4\n",
              "\n",
              "[114 rows x 4 columns]"
            ],
            "text/html": [
              "\n",
              "  <div id=\"df-08b883c1-4883-4ba3-9d8d-d5aa99e7b83e\">\n",
              "    <div class=\"colab-df-container\">\n",
              "      <div>\n",
              "<style scoped>\n",
              "    .dataframe tbody tr th:only-of-type {\n",
              "        vertical-align: middle;\n",
              "    }\n",
              "\n",
              "    .dataframe tbody tr th {\n",
              "        vertical-align: top;\n",
              "    }\n",
              "\n",
              "    .dataframe thead th {\n",
              "        text-align: right;\n",
              "    }\n",
              "</style>\n",
              "<table border=\"1\" class=\"dataframe\">\n",
              "  <thead>\n",
              "    <tr style=\"text-align: right;\">\n",
              "      <th></th>\n",
              "      <th>Year</th>\n",
              "      <th>Location</th>\n",
              "      <th>Sex</th>\n",
              "      <th>index</th>\n",
              "    </tr>\n",
              "  </thead>\n",
              "  <tbody>\n",
              "    <tr>\n",
              "      <th>0</th>\n",
              "      <td>2000</td>\n",
              "      <td>Daytona Beach, Volusia County</td>\n",
              "      <td>F</td>\n",
              "      <td>1</td>\n",
              "    </tr>\n",
              "    <tr>\n",
              "      <th>1</th>\n",
              "      <td>2000</td>\n",
              "      <td>Daytona Beach, Volusia County</td>\n",
              "      <td>M</td>\n",
              "      <td>1</td>\n",
              "    </tr>\n",
              "    <tr>\n",
              "      <th>2</th>\n",
              "      <td>2000</td>\n",
              "      <td>New Smyrna Beach, Volusia County</td>\n",
              "      <td>M</td>\n",
              "      <td>5</td>\n",
              "    </tr>\n",
              "    <tr>\n",
              "      <th>3</th>\n",
              "      <td>2000</td>\n",
              "      <td>Vero Beach, Indian River County</td>\n",
              "      <td>M</td>\n",
              "      <td>1</td>\n",
              "    </tr>\n",
              "    <tr>\n",
              "      <th>4</th>\n",
              "      <td>2001</td>\n",
              "      <td>Myrtle Beach, Horry County</td>\n",
              "      <td>F</td>\n",
              "      <td>1</td>\n",
              "    </tr>\n",
              "    <tr>\n",
              "      <th>...</th>\n",
              "      <td>...</td>\n",
              "      <td>...</td>\n",
              "      <td>...</td>\n",
              "      <td>...</td>\n",
              "    </tr>\n",
              "    <tr>\n",
              "      <th>109</th>\n",
              "      <td>2022</td>\n",
              "      <td>Daytona Beach, Volusia County</td>\n",
              "      <td>M</td>\n",
              "      <td>1</td>\n",
              "    </tr>\n",
              "    <tr>\n",
              "      <th>110</th>\n",
              "      <td>2022</td>\n",
              "      <td>Florida Keys, Monroe County</td>\n",
              "      <td>M</td>\n",
              "      <td>1</td>\n",
              "    </tr>\n",
              "    <tr>\n",
              "      <th>111</th>\n",
              "      <td>2022</td>\n",
              "      <td>Myrtle Beach, Horry County</td>\n",
              "      <td>F</td>\n",
              "      <td>2</td>\n",
              "    </tr>\n",
              "    <tr>\n",
              "      <th>112</th>\n",
              "      <td>2022</td>\n",
              "      <td>Myrtle Beach, Horry County</td>\n",
              "      <td>M</td>\n",
              "      <td>1</td>\n",
              "    </tr>\n",
              "    <tr>\n",
              "      <th>113</th>\n",
              "      <td>2022</td>\n",
              "      <td>New Smyrna Beach, Volusia County</td>\n",
              "      <td>M</td>\n",
              "      <td>4</td>\n",
              "    </tr>\n",
              "  </tbody>\n",
              "</table>\n",
              "<p>114 rows × 4 columns</p>\n",
              "</div>\n",
              "      <button class=\"colab-df-convert\" onclick=\"convertToInteractive('df-08b883c1-4883-4ba3-9d8d-d5aa99e7b83e')\"\n",
              "              title=\"Convert this dataframe to an interactive table.\"\n",
              "              style=\"display:none;\">\n",
              "        \n",
              "  <svg xmlns=\"http://www.w3.org/2000/svg\" height=\"24px\"viewBox=\"0 0 24 24\"\n",
              "       width=\"24px\">\n",
              "    <path d=\"M0 0h24v24H0V0z\" fill=\"none\"/>\n",
              "    <path d=\"M18.56 5.44l.94 2.06.94-2.06 2.06-.94-2.06-.94-.94-2.06-.94 2.06-2.06.94zm-11 1L8.5 8.5l.94-2.06 2.06-.94-2.06-.94L8.5 2.5l-.94 2.06-2.06.94zm10 10l.94 2.06.94-2.06 2.06-.94-2.06-.94-.94-2.06-.94 2.06-2.06.94z\"/><path d=\"M17.41 7.96l-1.37-1.37c-.4-.4-.92-.59-1.43-.59-.52 0-1.04.2-1.43.59L10.3 9.45l-7.72 7.72c-.78.78-.78 2.05 0 2.83L4 21.41c.39.39.9.59 1.41.59.51 0 1.02-.2 1.41-.59l7.78-7.78 2.81-2.81c.8-.78.8-2.07 0-2.86zM5.41 20L4 18.59l7.72-7.72 1.47 1.35L5.41 20z\"/>\n",
              "  </svg>\n",
              "      </button>\n",
              "      \n",
              "  <style>\n",
              "    .colab-df-container {\n",
              "      display:flex;\n",
              "      flex-wrap:wrap;\n",
              "      gap: 12px;\n",
              "    }\n",
              "\n",
              "    .colab-df-convert {\n",
              "      background-color: #E8F0FE;\n",
              "      border: none;\n",
              "      border-radius: 50%;\n",
              "      cursor: pointer;\n",
              "      display: none;\n",
              "      fill: #1967D2;\n",
              "      height: 32px;\n",
              "      padding: 0 0 0 0;\n",
              "      width: 32px;\n",
              "    }\n",
              "\n",
              "    .colab-df-convert:hover {\n",
              "      background-color: #E2EBFA;\n",
              "      box-shadow: 0px 1px 2px rgba(60, 64, 67, 0.3), 0px 1px 3px 1px rgba(60, 64, 67, 0.15);\n",
              "      fill: #174EA6;\n",
              "    }\n",
              "\n",
              "    [theme=dark] .colab-df-convert {\n",
              "      background-color: #3B4455;\n",
              "      fill: #D2E3FC;\n",
              "    }\n",
              "\n",
              "    [theme=dark] .colab-df-convert:hover {\n",
              "      background-color: #434B5C;\n",
              "      box-shadow: 0px 1px 3px 1px rgba(0, 0, 0, 0.15);\n",
              "      filter: drop-shadow(0px 1px 2px rgba(0, 0, 0, 0.3));\n",
              "      fill: #FFFFFF;\n",
              "    }\n",
              "  </style>\n",
              "\n",
              "      <script>\n",
              "        const buttonEl =\n",
              "          document.querySelector('#df-08b883c1-4883-4ba3-9d8d-d5aa99e7b83e button.colab-df-convert');\n",
              "        buttonEl.style.display =\n",
              "          google.colab.kernel.accessAllowed ? 'block' : 'none';\n",
              "\n",
              "        async function convertToInteractive(key) {\n",
              "          const element = document.querySelector('#df-08b883c1-4883-4ba3-9d8d-d5aa99e7b83e');\n",
              "          const dataTable =\n",
              "            await google.colab.kernel.invokeFunction('convertToInteractive',\n",
              "                                                     [key], {});\n",
              "          if (!dataTable) return;\n",
              "\n",
              "          const docLinkHtml = 'Like what you see? Visit the ' +\n",
              "            '<a target=\"_blank\" href=https://colab.research.google.com/notebooks/data_table.ipynb>data table notebook</a>'\n",
              "            + ' to learn more about interactive tables.';\n",
              "          element.innerHTML = '';\n",
              "          dataTable['output_type'] = 'display_data';\n",
              "          await google.colab.output.renderOutput(dataTable, element);\n",
              "          const docLink = document.createElement('div');\n",
              "          docLink.innerHTML = docLinkHtml;\n",
              "          element.appendChild(docLink);\n",
              "        }\n",
              "      </script>\n",
              "    </div>\n",
              "  </div>\n",
              "  "
            ]
          },
          "metadata": {},
          "execution_count": 387
        }
      ]
    },
    {
      "cell_type": "code",
      "source": [
        "#criando um grafico com as informações obtidas\n",
        "import seaborn as sns\n",
        "\n",
        "sns.lineplot(df_final_agrupado, x = 'Year', y = 'index', hue='Sex', ci=None)\n"
      ],
      "metadata": {
        "colab": {
          "base_uri": "https://localhost:8080/",
          "height": 588
        },
        "id": "Myw_csyHsGIa",
        "outputId": "667b4437-8833-4597-9ba4-722f9e8025d7"
      },
      "id": "Myw_csyHsGIa",
      "execution_count": 375,
      "outputs": [
        {
          "output_type": "stream",
          "name": "stderr",
          "text": [
            "<ipython-input-375-7bd487e76881>:4: FutureWarning:\n",
            "\n",
            "\n",
            "\n",
            "The `ci` parameter is deprecated. Use `errorbar=None` for the same effect.\n",
            "\n",
            "\n"
          ]
        },
        {
          "output_type": "execute_result",
          "data": {
            "text/plain": [
              "<Axes: xlabel='Year', ylabel='index'>"
            ]
          },
          "metadata": {},
          "execution_count": 375
        },
        {
          "output_type": "display_data",
          "data": {
            "text/plain": [
              "<Figure size 640x480 with 1 Axes>"
            ],
            "image/png": "[encoded data removed]"
          },
          "metadata": {}
        }
      ]
    }
  ],
  "metadata": {
    "kernelspec": {
      "display_name": "Python 3 (ipykernel)",
      "language": "python",
      "name": "python3"
    },
    "language_info": {
      "codemirror_mode": {
        "name": "ipython",
        "version": 3
      },
      "file_extension": ".py",
      "mimetype": "text/x-python",
      "name": "python",
      "nbconvert_exporter": "python",
      "pygments_lexer": "ipython3",
      "version": "3.10.9"
    },
    "colab": {
      "provenance": [],
      "include_colab_link": true
    }
  },
  "nbformat": 4,
  "nbformat_minor": 5
}